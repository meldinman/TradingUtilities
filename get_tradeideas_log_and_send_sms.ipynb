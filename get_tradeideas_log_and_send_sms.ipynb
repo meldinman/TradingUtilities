{
 "cells": [
  {
   "cell_type": "code",
   "execution_count": null,
   "id": "cef8f3c1",
   "metadata": {},
   "outputs": [],
   "source": [
    "import pandas as pd\n",
    "from sms_utils import send_sms\n",
    "from datetime import date, datetime\n",
    "\n",
    "from apscheduler.schedulers.background import BackgroundScheduler"
   ]
  },
  {
   "cell_type": "code",
   "execution_count": null,
   "id": "a57580d8",
   "metadata": {},
   "outputs": [],
   "source": [
    "def run_alert_log_background():\n",
    "    ALERTED = set()\n",
    "    sched = BackgroundScheduler()\n",
    "    sched.add_job(send_alert_text, 'cron', day_of_week='mon-fri', hour='7-16', second='*/10',args=[ALERTED] )\n",
    "    sched.start()"
   ]
  },
  {
   "cell_type": "code",
   "execution_count": null,
   "id": "5c89f87d",
   "metadata": {},
   "outputs": [],
   "source": [
    "def send_alert_text(alerted):\n",
    "    alert_log = get_todays_file()\n",
    "    alerts = unique_alert(alerted, alert_log)\n",
    "    for alert in alerts:\n",
    "        send_sms(alert)\n",
    "        print(alert)\n",
    "    if len(alerts) < 1:\n",
    "        print(\"no new alerts found {}\".format(datetime.now())) "
   ]
  },
  {
   "cell_type": "code",
   "execution_count": null,
   "id": "41bdb691",
   "metadata": {},
   "outputs": [],
   "source": [
    "def get_todays_file():\n",
    "    today = date.today()\n",
    "    file_path = \"alertlogging.Running Up.20221129.csv\"\n",
    "    try:\n",
    "        alert_log = pd.read_csv(file_path)\n",
    "    except FileNotFoundError:\n",
    "        alert_log = []\n",
    "        print(\"No file yet\")\n",
    "    return alert_log"
   ]
  },
  {
   "cell_type": "code",
   "execution_count": null,
   "id": "c10d363b",
   "metadata": {},
   "outputs": [],
   "source": [
    "def unique_alert(alerted, alert_log):\n",
    "    symbol_alerts = []\n",
    "    if len(alert_log) > 0:\n",
    "        firsts = alert_log.groupby('Symbol', as_index=False).first()\n",
    "        alerted_reset = reset_alerted_daily(alerted)\n",
    "        for symbol in firsts.Symbol:\n",
    "            if symbol not in alerted_reset:\n",
    "                alerted_reset.add(symbol)\n",
    "                symbol_alert = firsts.loc[firsts.Symbol == symbol][['Symbol', 'TimeStamp', 'Price', 'Volume Today']]\n",
    "                symbol_alerts.append(symbol_alert)\n",
    "    return symbol_alerts"
   ]
  },
  {
   "cell_type": "code",
   "execution_count": null,
   "id": "4e47f707",
   "metadata": {},
   "outputs": [],
   "source": [
    "def reset_alerted_daily(alerted):\n",
    "    now = datetime.now()\n",
    "    if ( now.hour == 7 and now.minute == 1 and now.second == 1 ) :\n",
    "        alerted = set()\n",
    "    return alerted"
   ]
  },
  {
   "cell_type": "code",
   "execution_count": null,
   "id": "9e389480",
   "metadata": {
    "scrolled": true
   },
   "outputs": [],
   "source": [
    "run_alert_log_background()"
   ]
  },
  {
   "cell_type": "code",
   "execution_count": null,
   "id": "89a5a90e",
   "metadata": {},
   "outputs": [],
   "source": []
  }
 ],
 "metadata": {
  "kernelspec": {
   "display_name": "Python 3 (ipykernel)",
   "language": "python",
   "name": "python3"
  },
  "language_info": {
   "codemirror_mode": {
    "name": "ipython",
    "version": 3
   },
   "file_extension": ".py",
   "mimetype": "text/x-python",
   "name": "python",
   "nbconvert_exporter": "python",
   "pygments_lexer": "ipython3",
   "version": "3.9.13"
  }
 },
 "nbformat": 4,
 "nbformat_minor": 5
}
