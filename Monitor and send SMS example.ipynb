{
 "cells": [
  {
   "cell_type": "code",
   "execution_count": null,
   "id": "cef8f3c1",
   "metadata": {},
   "outputs": [],
   "source": [
    "import pandas as pd\n",
    "from datetime import date, datetime\n",
    "\n",
    "from apscheduler.schedulers.background import BackgroundScheduler"
   ]
  },
  {
   "cell_type": "code",
   "execution_count": null,
   "id": "a57580d8",
   "metadata": {},
   "outputs": [],
   "source": [
    "def run_alert_log_background():\n",
    "    ALERTED = set()\n",
    "    sched = BackgroundScheduler()\n",
    "    sched.add_job(send_alert_text, 'cron', day_of_week='mon-fri', hour='7-16', second='*/10',args=[ALERTED] )\n",
    "    sched.start()"
   ]
  },
  {
   "cell_type": "code",
   "execution_count": null,
   "id": "0eb58cb7",
   "metadata": {},
   "outputs": [],
   "source": [
    "def send_alert_text(alerted):\n",
    "    alert_log = get_todays_file()\n",
    "    alerts = unique_alert(alerted, alert_log)\n",
    "    for alert in alerts:\n",
    "        send_sms(alert)\n",
    "        print(alert)\n",
    "    if len(alerts) < 1:\n",
    "        print(\"no new alerts found {}\".format(datetime.now())) "
   ]
  },
  {
   "cell_type": "code",
   "execution_count": null,
   "id": "41bdb691",
   "metadata": {},
   "outputs": [],
   "source": [
    "def get_todays_file():\n",
    "    today = date.today()\n",
    "    # file_path = \"alertlogging.Running Up.{}.csv\".format(today.strftime(\"%Y%m%d\"))\n",
    "    file_path = \"alertlogging.Running Up.20221129.csv\" # using this path to use included sample file\n",
    "    try:\n",
    "        alert_log = pd.read_csv(file_path)\n",
    "    except FileNotFoundError:\n",
    "        alert_log = []\n",
    "        print(\"No file yet\")\n",
    "    return alert_log"
   ]
  },
  {
   "cell_type": "code",
   "execution_count": null,
   "id": "c10d363b",
   "metadata": {},
   "outputs": [],
   "source": [
    "def unique_alert(alerted, alert_log):\n",
    "    symbol_alerts = []\n",
    "    if len(alert_log) > 0:\n",
    "        firsts = alert_log.groupby('Symbol', as_index=False).first()\n",
    "        alerted_reset = reset_alerted_daily(alerted)\n",
    "        for symbol in firsts.Symbol:\n",
    "            if symbol not in alerted_reset:\n",
    "                alerted_reset.add(symbol)\n",
    "                symbol_alert = firsts.loc[firsts.Symbol == symbol][['Symbol', 'TimeStamp', 'Price', 'Volume Today']]\n",
    "                symbol_alerts.append(symbol_alert)\n",
    "    return symbol_alerts"
   ]
  },
  {
   "cell_type": "code",
   "execution_count": null,
   "id": "4e47f707",
   "metadata": {},
   "outputs": [],
   "source": [
    "def reset_alerted_daily(alerted):\n",
    "    now = datetime.now()\n",
    "    if ( now.hour == 7 and now.minute == 1 and now.second == 1 ) :\n",
    "        alerted = set()\n",
    "    return alerted"
   ]
  },
  {
   "cell_type": "code",
   "execution_count": null,
   "id": "3dfb8221",
   "metadata": {},
   "outputs": [],
   "source": [
    "import email, smtplib, ssl\n",
    "from providers import PROVIDERS\n",
    "\n",
    "def send_sms_via_email(\n",
    "    number: str,\n",
    "    message: str,\n",
    "    provider: str,\n",
    "    sender_credentials: tuple,\n",
    "    subject: str = \"sent using etext\",\n",
    "    smtp_server: str = \"smtp.gmail.com\",\n",
    "    smtp_port: int = 465,\n",
    "):\n",
    "    sender_email, email_password = sender_credentials\n",
    "    receiver_email = f'{number}@{PROVIDERS.get(provider).get(\"sms\")}'\n",
    "\n",
    "    email_message = f\"Subject:{subject}\\nTo:{receiver_email}\\n{message}\"\n",
    "\n",
    "    with smtplib.SMTP_SSL(\n",
    "        smtp_server, smtp_port, context=ssl.create_default_context()\n",
    "    ) as email:\n",
    "        email.login(sender_email, email_password)\n",
    "        email.sendmail(sender_email, receiver_email, email_message)\n",
    "        \n",
    "def send_sms(message_str:str):\n",
    "    number = \"Your Phone number here (e.g. 1233211234)\" #edit this string\n",
    "    message = message_str\n",
    "    provider = \"your phone provider here(e.g. T-Mobile)\" #edit this string\n",
    "    sender_credentials = (\"youremail@gmail.com\", \"SMTP forwarding password\") #edit these two strings\n",
    "    send_sms_via_email(number, message, provider, sender_credentials)"
   ]
  },
  {
   "cell_type": "code",
   "execution_count": null,
   "id": "a70afd1e",
   "metadata": {
    "scrolled": true
   },
   "outputs": [],
   "source": [
    "run_alert_log_background()"
   ]
  }
 ],
 "metadata": {
  "kernelspec": {
   "display_name": "Python 3 (ipykernel)",
   "language": "python",
   "name": "python3"
  },
  "language_info": {
   "codemirror_mode": {
    "name": "ipython",
    "version": 3
   },
   "file_extension": ".py",
   "mimetype": "text/x-python",
   "name": "python",
   "nbconvert_exporter": "python",
   "pygments_lexer": "ipython3",
   "version": "3.9.13"
  }
 },
 "nbformat": 4,
 "nbformat_minor": 5
}
